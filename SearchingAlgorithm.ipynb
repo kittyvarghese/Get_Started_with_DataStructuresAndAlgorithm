{
  "nbformat": 4,
  "nbformat_minor": 0,
  "metadata": {
    "colab": {
      "name": "SearchingAlgorithm.ipynb",
      "provenance": []
    },
    "kernelspec": {
      "name": "python3",
      "display_name": "Python 3"
    }
  },
  "cells": [
    {
      "cell_type": "markdown",
      "metadata": {
        "id": "1M_6g36UuOL3"
      },
      "source": [
        "# **Searching Algorithm**\n",
        "\n",
        "The searching algorithms are used to search or find one or more than one element from a dataset. These type of algorithms are used to find elements from a specific data structures.\n",
        "\n",
        "Searching may be sequential or not. If the data in the dataset are random, then we need to use sequential searching.\n",
        "\n",
        "\n",
        "**Linear Search**\n",
        "\n",
        "Linear search is a very basic and simple search algorithm. In Linear search, we search an element or value in a given array by traversing the array from the starting, till the desired element or value is found.\n",
        "\n",
        "It compares the element to be searched with all the elements present in the array and when the element is matched successfully, it returns the index of the element in the array, else it return -1.\n",
        "\n",
        "Linear Search is applied on unsorted or unordered lists, when there are fewer elements in a list."
      ]
    },
    {
      "cell_type": "markdown",
      "metadata": {
        "id": "c7y68CDUz5kG"
      },
      "source": [
        "Let us understand linear search with an example \n"
      ]
    },
    {
      "cell_type": "code",
      "metadata": {
        "id": "km-hxUnvuDLP"
      },
      "source": [
        "def linear_search(A,k):\n",
        "  idx = 0\n",
        "  while idx < len(A):\n",
        "    if A[idx]== k:\n",
        "      return idx\n",
        "    idx=idx+1\n",
        "  return -1"
      ],
      "execution_count": 1,
      "outputs": []
    },
    {
      "cell_type": "code",
      "metadata": {
        "id": "Gwji52QUwR3O",
        "outputId": "dc7d9a61-81e8-49a5-8c2c-90a13cadaa25",
        "colab": {
          "base_uri": "https://localhost:8080/",
          "height": 34
        }
      },
      "source": [
        "A = [12,4,5,3]\n",
        "k=8\n",
        "found = linear_search(A,k)\n",
        "print('result is found:',found)"
      ],
      "execution_count": 2,
      "outputs": [
        {
          "output_type": "stream",
          "text": [
            "result is found: -1\n"
          ],
          "name": "stdout"
        }
      ]
    },
    {
      "cell_type": "markdown",
      "metadata": {
        "id": "T00UI6zxz_ZB"
      },
      "source": [
        "**Binary Search Algorithm using Iterative Algorithm**\n",
        "\n",
        "Binary Search is used with **sorted array or list**. In binary search, we follow the following steps:\n",
        "\n",
        "    We start by comparing the element to be searched with the element in the middle of the list/array.\n",
        "    If we get a match, we return the index of the middle element.\n",
        "    If we do not get a match, we check whether the element to be searched is less or greater than in value than the middle element.\n",
        "    If the element/number to be searched is greater in value than the middle number, then we pick the elements on the right side of the middle element(as the list/array is sorted, hence on the right, we will have all the numbers greater than the middle number), and start again from the step 1.\n",
        "    If the element/number to be searched is lesser in value than the middle number, then we pick the elements on the left side of the middle element, and start again from the step 1.\n",
        "\n",
        "Binary Search is useful when there are large number of elements in an array and they are sorted.\n",
        "\n",
        "So a necessary condition for Binary search to work is that the list/array should be sorted.\n",
        "\n",
        "*It has a time complexity of O(log n) which is a very good time complexity*"
      ]
    },
    {
      "cell_type": "code",
      "metadata": {
        "id": "Ulf-dRz1EQsr"
      },
      "source": [
        "import math as ma  "
      ],
      "execution_count": 3,
      "outputs": []
    },
    {
      "cell_type": "code",
      "metadata": {
        "id": "IslqI1txCrlE"
      },
      "source": [
        "def binary_search_itr(A,key):\n",
        "  L=0\n",
        "  R = len(A)-1\n",
        "  while L < R :\n",
        "    m = ma.floor((L+R)/2)\n",
        "    if A[m]==k:\n",
        "      return m\n",
        "    elif k < m:\n",
        "      R = m-1\n",
        "    elif k > m:\n",
        "      L = m+1\n",
        "  return -1\n",
        "\n",
        "      "
      ],
      "execution_count": 4,
      "outputs": []
    },
    {
      "cell_type": "code",
      "metadata": {
        "id": "cUmF5XC4D_6T",
        "outputId": "3f82f765-9a8a-4188-9f77-036c89828f19",
        "colab": {
          "base_uri": "https://localhost:8080/",
          "height": 34
        }
      },
      "source": [
        "A = [1,2,3,4,6]\n",
        "k=4\n",
        "found = binary_search_itr(A,k)\n",
        "print('result is found', found)"
      ],
      "execution_count": 5,
      "outputs": [
        {
          "output_type": "stream",
          "text": [
            "result is found 3\n"
          ],
          "name": "stdout"
        }
      ]
    },
    {
      "cell_type": "markdown",
      "metadata": {
        "id": "ULX8at3CE97V"
      },
      "source": [
        "**Binary Search Algorithm using Recursion Algorithm**\n",
        "\n"
      ]
    },
    {
      "cell_type": "code",
      "metadata": {
        "id": "OeW1HOrUG58x"
      },
      "source": [
        "def binary_search_recur(A,k,l,r):\n",
        "  if l > r:\n",
        "    return -1\n",
        "  else:\n",
        "    m = ma.floor((l+r)/2)\n",
        "    if k == A[m]:\n",
        "      return m\n",
        "    elif k < A[m]:\n",
        "      return binary_search_recur(A,k,l,m-1)\n",
        "    elif k > A[m]:\n",
        "      return binary_search_recur(A,k,m+1,r)\n",
        "  "
      ],
      "execution_count": 6,
      "outputs": []
    },
    {
      "cell_type": "code",
      "metadata": {
        "id": "SYIfZYSYLNq5",
        "outputId": "9c687bf9-7983-4fd0-8a07-a973391b7b24",
        "colab": {
          "base_uri": "https://localhost:8080/",
          "height": 34
        }
      },
      "source": [
        "A = [1,2,3,4,6]\n",
        "k=4\n",
        "l=0\n",
        "r=len(A)-1\n",
        "found = binary_search_recur(A,k,l,r)\n",
        "print('result is found',found)"
      ],
      "execution_count": 7,
      "outputs": [
        {
          "output_type": "stream",
          "text": [
            "result is found 3\n"
          ],
          "name": "stdout"
        }
      ]
    },
    {
      "cell_type": "markdown",
      "metadata": {
        "id": "zX_pO0Fzun3Y"
      },
      "source": [
        "Reference \n",
        "\n",
        "\n",
        "\n",
        "\n",
        "*   [https://www.studytonight.com/data-structures/search-algorithms](https://)\n",
        "*   List item\n",
        "\n"
      ]
    }
  ]
}